{
  "nbformat": 4,
  "nbformat_minor": 0,
  "metadata": {
    "colab": {
      "name": "simplify strokes.ipynb",
      "provenance": [],
      "collapsed_sections": []
    },
    "kernelspec": {
      "name": "python3",
      "display_name": "Python 3"
    },
    "language_info": {
      "name": "python"
    }
  },
  "cells": [
    {
      "cell_type": "markdown",
      "source": [
        "# Learn to draw\n",
        "\n",
        "#### Drawing frontend\n",
        "https://draw.neurohub.io<br>\n",
        "\n",
        "#### Flow API\n",
        "https://flow.neurohub.io<br>\n"
      ],
      "metadata": {
        "id": "WEG88pB9zW7n"
      }
    },
    {
      "cell_type": "markdown",
      "source": [
        "# Import Libraries"
      ],
      "metadata": {
        "id": "ofoTKqlMGK6g"
      }
    },
    {
      "cell_type": "code",
      "execution_count": 128,
      "metadata": {
        "id": "XF6TQ6DoGGdf"
      },
      "outputs": [],
      "source": [
        "import pandas as pd\n",
        "import torch\n",
        "import torchvision\n",
        "from torchvision import transforms\n",
        "import os\n",
        "import numpy as np\n",
        "import numpy as np\n",
        "import matplotlib.pyplot as plt\n",
        "from scipy.interpolate import UnivariateSpline\n",
        "import requests\n",
        "import json\n",
        "from json import JSONEncoder\n"
      ]
    },
    {
      "cell_type": "code",
      "source": [
        "class NumpyArrayEncoder(JSONEncoder):\n",
        "    def default(self, obj):\n",
        "        if isinstance(obj, np.ndarray):\n",
        "            return obj.tolist()\n",
        "        return JSONEncoder.default(self, obj)"
      ],
      "metadata": {
        "id": "seFkhzYvQ_nv"
      },
      "execution_count": 130,
      "outputs": []
    },
    {
      "cell_type": "markdown",
      "source": [
        "# List drawings in the database "
      ],
      "metadata": {
        "id": "BJB2LY6-ztFA"
      }
    },
    {
      "cell_type": "code",
      "source": [
        "# GET LIST OF DRAWINGS\n",
        "ids = pd.read_json('https://flow.neurohub.io/list')"
      ],
      "metadata": {
        "id": "crqDPGblGRjG"
      },
      "execution_count": 129,
      "outputs": []
    },
    {
      "cell_type": "code",
      "source": [
        "ids"
      ],
      "metadata": {
        "colab": {
          "base_uri": "https://localhost:8080/",
          "height": 424
        },
        "id": "MaiZmCHjwcSO",
        "outputId": "6736df79-8554-4445-c6a6-acad225dbef5"
      },
      "execution_count": 134,
      "outputs": [
        {
          "output_type": "execute_result",
          "data": {
            "text/plain": [
              "                                         0\n",
              "0     712fff63-3aa0-4fa1-b3c1-97fd671f0490\n",
              "1     e031a812-2852-4570-a092-8db5089f2554\n",
              "2     1b8d9b91-806a-4506-8891-e4fbd84c8613\n",
              "3     f1a05f72-09e4-4686-8cb5-22f29e6254bf\n",
              "4     48dcbfe7-c51f-4250-9473-f3378ead7809\n",
              "..                                     ...\n",
              "87    88233446-8863-43d0-ab0d-b1486948b5c6\n",
              "88    2aff9b4e-242b-4666-9334-fcf6adce0d79\n",
              "89    fc8d014c-7cdc-41b4-8411-cfa71afec1c9\n",
              "90    5e45ca3e-eefc-49e6-a793-eb9a666e8d4c\n",
              "91  6960a950-8522-43f8-ac04-45a10a1013f8-s\n",
              "\n",
              "[92 rows x 1 columns]"
            ],
            "text/html": [
              "\n",
              "  <div id=\"df-c6aab576-b6b7-4293-86f4-80dc1594e621\">\n",
              "    <div class=\"colab-df-container\">\n",
              "      <div>\n",
              "<style scoped>\n",
              "    .dataframe tbody tr th:only-of-type {\n",
              "        vertical-align: middle;\n",
              "    }\n",
              "\n",
              "    .dataframe tbody tr th {\n",
              "        vertical-align: top;\n",
              "    }\n",
              "\n",
              "    .dataframe thead th {\n",
              "        text-align: right;\n",
              "    }\n",
              "</style>\n",
              "<table border=\"1\" class=\"dataframe\">\n",
              "  <thead>\n",
              "    <tr style=\"text-align: right;\">\n",
              "      <th></th>\n",
              "      <th>0</th>\n",
              "    </tr>\n",
              "  </thead>\n",
              "  <tbody>\n",
              "    <tr>\n",
              "      <th>0</th>\n",
              "      <td>712fff63-3aa0-4fa1-b3c1-97fd671f0490</td>\n",
              "    </tr>\n",
              "    <tr>\n",
              "      <th>1</th>\n",
              "      <td>e031a812-2852-4570-a092-8db5089f2554</td>\n",
              "    </tr>\n",
              "    <tr>\n",
              "      <th>2</th>\n",
              "      <td>1b8d9b91-806a-4506-8891-e4fbd84c8613</td>\n",
              "    </tr>\n",
              "    <tr>\n",
              "      <th>3</th>\n",
              "      <td>f1a05f72-09e4-4686-8cb5-22f29e6254bf</td>\n",
              "    </tr>\n",
              "    <tr>\n",
              "      <th>4</th>\n",
              "      <td>48dcbfe7-c51f-4250-9473-f3378ead7809</td>\n",
              "    </tr>\n",
              "    <tr>\n",
              "      <th>...</th>\n",
              "      <td>...</td>\n",
              "    </tr>\n",
              "    <tr>\n",
              "      <th>87</th>\n",
              "      <td>88233446-8863-43d0-ab0d-b1486948b5c6</td>\n",
              "    </tr>\n",
              "    <tr>\n",
              "      <th>88</th>\n",
              "      <td>2aff9b4e-242b-4666-9334-fcf6adce0d79</td>\n",
              "    </tr>\n",
              "    <tr>\n",
              "      <th>89</th>\n",
              "      <td>fc8d014c-7cdc-41b4-8411-cfa71afec1c9</td>\n",
              "    </tr>\n",
              "    <tr>\n",
              "      <th>90</th>\n",
              "      <td>5e45ca3e-eefc-49e6-a793-eb9a666e8d4c</td>\n",
              "    </tr>\n",
              "    <tr>\n",
              "      <th>91</th>\n",
              "      <td>6960a950-8522-43f8-ac04-45a10a1013f8-s</td>\n",
              "    </tr>\n",
              "  </tbody>\n",
              "</table>\n",
              "<p>92 rows × 1 columns</p>\n",
              "</div>\n",
              "      <button class=\"colab-df-convert\" onclick=\"convertToInteractive('df-c6aab576-b6b7-4293-86f4-80dc1594e621')\"\n",
              "              title=\"Convert this dataframe to an interactive table.\"\n",
              "              style=\"display:none;\">\n",
              "        \n",
              "  <svg xmlns=\"http://www.w3.org/2000/svg\" height=\"24px\"viewBox=\"0 0 24 24\"\n",
              "       width=\"24px\">\n",
              "    <path d=\"M0 0h24v24H0V0z\" fill=\"none\"/>\n",
              "    <path d=\"M18.56 5.44l.94 2.06.94-2.06 2.06-.94-2.06-.94-.94-2.06-.94 2.06-2.06.94zm-11 1L8.5 8.5l.94-2.06 2.06-.94-2.06-.94L8.5 2.5l-.94 2.06-2.06.94zm10 10l.94 2.06.94-2.06 2.06-.94-2.06-.94-.94-2.06-.94 2.06-2.06.94z\"/><path d=\"M17.41 7.96l-1.37-1.37c-.4-.4-.92-.59-1.43-.59-.52 0-1.04.2-1.43.59L10.3 9.45l-7.72 7.72c-.78.78-.78 2.05 0 2.83L4 21.41c.39.39.9.59 1.41.59.51 0 1.02-.2 1.41-.59l7.78-7.78 2.81-2.81c.8-.78.8-2.07 0-2.86zM5.41 20L4 18.59l7.72-7.72 1.47 1.35L5.41 20z\"/>\n",
              "  </svg>\n",
              "      </button>\n",
              "      \n",
              "  <style>\n",
              "    .colab-df-container {\n",
              "      display:flex;\n",
              "      flex-wrap:wrap;\n",
              "      gap: 12px;\n",
              "    }\n",
              "\n",
              "    .colab-df-convert {\n",
              "      background-color: #E8F0FE;\n",
              "      border: none;\n",
              "      border-radius: 50%;\n",
              "      cursor: pointer;\n",
              "      display: none;\n",
              "      fill: #1967D2;\n",
              "      height: 32px;\n",
              "      padding: 0 0 0 0;\n",
              "      width: 32px;\n",
              "    }\n",
              "\n",
              "    .colab-df-convert:hover {\n",
              "      background-color: #E2EBFA;\n",
              "      box-shadow: 0px 1px 2px rgba(60, 64, 67, 0.3), 0px 1px 3px 1px rgba(60, 64, 67, 0.15);\n",
              "      fill: #174EA6;\n",
              "    }\n",
              "\n",
              "    [theme=dark] .colab-df-convert {\n",
              "      background-color: #3B4455;\n",
              "      fill: #D2E3FC;\n",
              "    }\n",
              "\n",
              "    [theme=dark] .colab-df-convert:hover {\n",
              "      background-color: #434B5C;\n",
              "      box-shadow: 0px 1px 3px 1px rgba(0, 0, 0, 0.15);\n",
              "      filter: drop-shadow(0px 1px 2px rgba(0, 0, 0, 0.3));\n",
              "      fill: #FFFFFF;\n",
              "    }\n",
              "  </style>\n",
              "\n",
              "      <script>\n",
              "        const buttonEl =\n",
              "          document.querySelector('#df-c6aab576-b6b7-4293-86f4-80dc1594e621 button.colab-df-convert');\n",
              "        buttonEl.style.display =\n",
              "          google.colab.kernel.accessAllowed ? 'block' : 'none';\n",
              "\n",
              "        async function convertToInteractive(key) {\n",
              "          const element = document.querySelector('#df-c6aab576-b6b7-4293-86f4-80dc1594e621');\n",
              "          const dataTable =\n",
              "            await google.colab.kernel.invokeFunction('convertToInteractive',\n",
              "                                                     [key], {});\n",
              "          if (!dataTable) return;\n",
              "\n",
              "          const docLinkHtml = 'Like what you see? Visit the ' +\n",
              "            '<a target=\"_blank\" href=https://colab.research.google.com/notebooks/data_table.ipynb>data table notebook</a>'\n",
              "            + ' to learn more about interactive tables.';\n",
              "          element.innerHTML = '';\n",
              "          dataTable['output_type'] = 'display_data';\n",
              "          await google.colab.output.renderOutput(dataTable, element);\n",
              "          const docLink = document.createElement('div');\n",
              "          docLink.innerHTML = docLinkHtml;\n",
              "          element.appendChild(docLink);\n",
              "        }\n",
              "      </script>\n",
              "    </div>\n",
              "  </div>\n",
              "  "
            ]
          },
          "metadata": {},
          "execution_count": 134
        }
      ]
    },
    {
      "cell_type": "markdown",
      "source": [
        "# Test simplification of 1 drawing"
      ],
      "metadata": {
        "id": "ojqo0p_nz6rT"
      }
    },
    {
      "cell_type": "code",
      "source": [
        "# // TEST STROKE SIMPLIFICATION \n",
        "\n",
        "id='6960a950-8522-43f8-ac04-45a10a1013f8';\n",
        "\n",
        "points = pd.read_json('https://flow.neurohub.io/drawings/' + id + '/points');\n",
        "\n",
        "headers = {\n",
        "  'Content-Type': 'application/json'\n",
        "}\n",
        "\n",
        "s=.1\n",
        "numPoints = 32;\n",
        "payload = [];\n",
        "strokeIds = points[\"strokeId\"].unique();\n",
        "\n",
        "for strokeId in strokeIds:\n",
        "  strokePoints = points[points[\"strokeId\"] == strokeId];\n",
        "  x, y = strokePoints[\"x\"].to_numpy(), strokePoints[\"y\"].to_numpy() \n",
        "\n",
        "  if x.size>5:      \n",
        "    coords = np.linspace(0, x.size, x.size)\n",
        "    k=np.min([x.size,5])\n",
        "    splx = UnivariateSpline(coords, x, k=k, s=s)\n",
        "    sply = UnivariateSpline(coords, y, k=k, s=s)\n",
        "    xs = np.linspace(0, x.size, numPoints)\n",
        "    ys = np.linspace(0, y.size, numPoints)\n",
        "    data = {'strokeId':strokeId,\n",
        "            'xs':splx(xs),\n",
        "            'ys':sply(ys)\n",
        "    }\n",
        "    payload.append(data);\n",
        "\n",
        "data = json.dumps(payload, cls=NumpyArrayEncoder)\n",
        "URL = \"https://flow.neurohub.io/drawings/\" + id + \"/simple\"\n",
        "\n",
        "response = requests.request(\"PUT\", URL, headers=headers, data=data)\n",
        "response"
      ],
      "metadata": {
        "colab": {
          "base_uri": "https://localhost:8080/",
          "height": 0
        },
        "id": "rw-DpdzcsLsH",
        "outputId": "feaa6cf4-298a-42bb-d39b-23a17a0e4eaf"
      },
      "execution_count": 131,
      "outputs": [
        {
          "output_type": "execute_result",
          "data": {
            "text/plain": [
              "<Response [200]>"
            ]
          },
          "metadata": {},
          "execution_count": 131
        }
      ]
    },
    {
      "cell_type": "markdown",
      "source": [
        "# Simplify all drawings in the database "
      ],
      "metadata": {
        "id": "WNc3d0R_0Cpz"
      }
    },
    {
      "cell_type": "code",
      "source": [
        "# // STROKE SIMPLIFICATION \n",
        "\n",
        "headers = {\n",
        "  'Content-Type': 'application/json'\n",
        "}\n",
        "\n",
        "s=.1\n",
        "numPoints = 32;\n",
        "\n",
        "for id in ids[0]:  \n",
        "  if not id.endswith(\"-s\"):\n",
        "    print(id)\n",
        "    points = pd.read_json('https://flow.neurohub.io/drawings/' + id + '/points');\n",
        "    strokeIds = points[\"strokeId\"].unique();\n",
        "\n",
        "    payload = []\n",
        "    for strokeId in strokeIds:\n",
        "      strokePoints = points[points[\"strokeId\"] == strokeId];\n",
        "      x, y = strokePoints[\"x\"].to_numpy(), strokePoints[\"y\"].to_numpy() \n",
        "\n",
        "      if x.size>5:      \n",
        "        coords = np.linspace(0, x.size, x.size)\n",
        "        k=np.min([x.size,5])\n",
        "        splx = UnivariateSpline(coords, x, k=k, s=s)\n",
        "        sply = UnivariateSpline(coords, y, k=k, s=s)\n",
        "        xs = np.linspace(0, x.size, numPoints)\n",
        "        ys = np.linspace(0, y.size, numPoints)\n",
        "        data = {'strokeId':strokeId,\n",
        "                'xs':splx(xs),\n",
        "                'ys':sply(ys)\n",
        "        }\n",
        "        payload.append(data);\n",
        "\n",
        "    data = json.dumps(payload, cls=NumpyArrayEncoder)\n",
        "    URL = \"https://flow.neurohub.io/drawings/\" + id +\"/simple\"\n",
        "    response = requests.request(\"PUT\", URL, headers=headers, data=data)\n"
      ],
      "metadata": {
        "colab": {
          "base_uri": "https://localhost:8080/",
          "height": 0
        },
        "id": "PUY9OzLUqte3",
        "outputId": "64e4b63e-e76e-49dc-8363-53b859e23b4b"
      },
      "execution_count": 140,
      "outputs": [
        {
          "output_type": "stream",
          "name": "stdout",
          "text": [
            "712fff63-3aa0-4fa1-b3c1-97fd671f0490\n",
            "e031a812-2852-4570-a092-8db5089f2554\n",
            "1b8d9b91-806a-4506-8891-e4fbd84c8613\n",
            "f1a05f72-09e4-4686-8cb5-22f29e6254bf\n",
            "48dcbfe7-c51f-4250-9473-f3378ead7809\n",
            "09f211bb-5866-4da6-895f-6e380614620c\n",
            "e6508dd5-9a97-4485-ba12-cb65331ec574\n",
            "7c22d5cd-2cce-400c-82a5-4681a1126e80\n",
            "6960a950-8522-43f8-ac04-45a10a1013f8\n",
            "e464b0a2-e99a-422b-9411-1709e229945e\n",
            "6ac93a11-63e7-4a52-8f36-1fc64b63f2c0\n",
            "d63cf011-c0eb-44b4-b862-67637aec2efb\n",
            "d0297d4d-33ba-46e6-8f70-d34672270ed5\n",
            "5a9ac0e7-a5f8-4f4d-adfe-92f2292c59e6\n",
            "7b7be45c-8e82-40eb-84d7-4e9b5920084d\n",
            "a2665f22-a98d-4cd3-bfaa-4a97fdd12ec3\n",
            "fe7e4e09-15ed-447d-972e-83769bb747e4\n",
            "23041050-253d-43a7-8117-4e691868a6f5\n",
            "7c381fbe-e5b7-4abb-9be9-0bea80132e21\n",
            "d8121e2d-26b4-4f5c-8aa2-5584b2868cdf\n",
            "8cf1bc4b-d152-4340-948c-f10c53e64dd3\n",
            "4aec00c1-3bfd-4baf-a2a9-cbc0414e923e\n",
            "9072ecaa-91b1-454c-a150-4e8b0e91314f\n",
            "3dad4a25-b777-4aa1-960f-5275162c67a8\n",
            "d20dfa30-48aa-412e-b160-4c9627dc932e\n",
            "fff6bd5f-247f-4416-962e-4887d64e869d\n",
            "773bd8e0-d91e-4856-9c4c-80b55263d8ac\n",
            "f1bac33b-6872-490b-859b-549e0d521bc7\n",
            "869c5d61-c8ff-4a66-b532-413b651a6539\n",
            "d1e3cac8-8b11-4d71-b34b-d238057b0cee\n",
            "8548aff2-d863-4520-90d5-450a0e30d5fd\n",
            "d0b9b3f7-60ae-4e27-8edc-90104130c553\n",
            "441f537f-5cd2-4c66-97a5-934ea71d4d48\n",
            "3d10e27d-8ff6-49b0-839b-917dbf541004\n",
            "40048132-ebde-4658-9e5d-ede6d3a00125\n",
            "0c23af0d-7dba-4e19-bc26-f095efef2c22\n",
            "6e19e3b8-4985-41ee-935b-ed7fca3b05b5\n",
            "4753b773-33be-4b91-ab41-b4cb553ecf88\n",
            "bc3fe600-6cda-4f3e-80f6-09f0e06dac04\n",
            "f0d89055-3ce7-451e-9b09-9dbaa72974ec\n",
            "f1c9cb2d-73ab-4b09-868c-9042a282429b\n",
            "498913ad-48c5-409d-9d96-8446bd5b0e68\n",
            "0a30cfd4-ebf7-4e36-8c80-49e30ff27529\n",
            "f2809268-2d15-48a9-9457-d32396d1d774\n",
            "44ce8675-1dca-427b-aee5-925b8a7519f6\n",
            "ae887020-281c-43fc-81aa-b789a17ea9ae\n",
            "1206422d-5147-4d61-aef2-8902f9323c58\n",
            "2588cb4b-3cc0-47bb-b85a-313c7c142fb7\n",
            "62bcf0d3-fa4b-4d59-beaa-140b87ba8e75\n",
            "2a19eb22-9826-415a-be1b-6b98e824554c\n",
            "4257f030-c54b-4142-95ff-63054fe26455\n",
            "53e7a11b-8fbc-49d7-b1a4-fb88e51f826c\n",
            "a0249563-b18c-42e1-b204-15fb77d0921d\n",
            "af548871-863e-44e6-a622-24a8e4d57452\n",
            "26a0e7a9-853b-4d3e-a540-c1f037b1dce6\n",
            "7ac9a6c6-2b32-439d-a117-7b171625209b\n",
            "25da94a8-f299-425d-9fa5-8f6f23557170\n",
            "97d87273-608d-4a53-92a7-e6fc37593ee8\n",
            "ee220bfe-e18d-440a-9c73-b5454b0161d9\n",
            "c2458f15-2fe0-408c-bc04-67d04d1ce854\n",
            "28512b80-1833-412f-984c-dc00f80762dd\n",
            "ee5e8140-fce2-4ac5-9741-f9385c93180a\n",
            "8a679121-cf4f-481b-b880-152eadda27ba\n",
            "40c6e647-a87f-43b4-82d5-288d30e10460\n",
            "bba04aa5-355f-4b89-a607-6e3c018594a1\n",
            "326aa049-508b-44b4-8716-ddc027624b72\n",
            "cd8ade0a-97c9-4d4f-841f-f3df0588520a\n",
            "3054e3b5-b6a0-4bcc-8c6c-ded59e914465\n",
            "5f16fb5c-333c-4a50-a60f-6ed11c3ab84a\n",
            "99067db6-2b66-4b36-a366-d7e96ea9d32a\n",
            "548f1e0f-ecc8-4890-880d-44582e51381d\n",
            "a2e148ba-f2c2-4309-80a2-1ebe285a8d78\n",
            "d83150ca-08a9-40d4-a5e5-cc909efd7e1d\n",
            "d4c28e4f-fe24-4fda-ae82-55e33cb8340e\n",
            "e30979b6-863b-4060-adca-6b8ec54a1c07\n",
            "c9b6abd4-3db5-43af-863e-7714b8868098\n",
            "20c0bd20-8207-4bbc-a707-886af1f8d065\n",
            "d63ee875-7f7f-40e1-8727-e7ffba759caf\n",
            "5f1b802e-0d19-42f2-80a7-a24b03844240\n",
            "d05bda61-b79a-417a-ac0d-3b1518c4d183\n",
            "ee6bf158-fe33-4de3-90a4-42b983b8b7e8\n",
            "29d9ac95-1285-4e34-bbc2-3e0293511830\n",
            "ab1642a4-8244-45e8-913a-94b34f14e886\n",
            "eae4adfd-a02e-430d-a777-e81e7474983b\n",
            "d9be5349-5c16-466d-8fdb-407f887b11cc\n",
            "7838e706-3f59-41f3-9a9f-e27ddd6102df\n",
            "382e231d-936c-4c51-809e-ac30661f9705\n",
            "88233446-8863-43d0-ab0d-b1486948b5c6\n",
            "2aff9b4e-242b-4666-9334-fcf6adce0d79\n",
            "fc8d014c-7cdc-41b4-8411-cfa71afec1c9\n",
            "5e45ca3e-eefc-49e6-a793-eb9a666e8d4c\n"
          ]
        }
      ]
    }
  ]
}